{
 "cells": [
  {
   "cell_type": "markdown",
   "metadata": {},
   "source": [
    "## Librerias"
   ]
  },
  {
   "cell_type": "code",
   "execution_count": null,
   "metadata": {},
   "outputs": [],
   "source": [
    "import numpy as np\n",
    "import pandas as pd\n",
    "\n",
    "# stellargraph\n",
    "import stellargraph as sg\n",
    "from stellargraph.mapper import PaddedGraphGenerator\n",
    "from stellargraph.layer import DeepGraphCNN\n",
    "\n",
    "# sklearn\n",
    "from sklearn import model_selection\n",
    "\n",
    "#tensorflow\n",
    "from tensorflow.keras import Model\n",
    "from tensorflow.keras import layers\n",
    "from tensorflow.keras import optimizers\n",
    "from tensorflow.keras.optimizers import Adam\n",
    "from tensorflow.keras.layers import Dense, Conv1D, MaxPool1D, Dropout, Flatten\n",
    "from tensorflow.keras.losses import binary_crossentropy, categorical_crossentropy\n",
    "import tensorflow as tf\n",
    "from tensorflow.keras.callbacks import ModelCheckpoint\n",
    "\n",
    "import pickle"
   ]
  },
  {
   "cell_type": "markdown",
   "metadata": {},
   "source": [
    "## Abrimos los datos"
   ]
  },
  {
   "cell_type": "code",
   "execution_count": null,
   "metadata": {},
   "outputs": [],
   "source": [
    "with open(\"graphs.txt\", \"rb\") as fp:   # Unpickling ../input/egg-new/26-0.2/graphs.txt\n",
    "    graphs = pickle.load(fp)\n",
    "\n",
    "# visualizamos como estan los datos importados\n",
    "print(graphs[0].info())"
   ]
  }
 ],
 "metadata": {
  "interpreter": {
   "hash": "ce834ef4bb88453c9616f086865b677e44e8db09042ee13be28b090baecb32b6"
  },
  "kernelspec": {
   "display_name": "Python 3.8.11 64-bit ('Ceiec': conda)",
   "name": "python3"
  },
  "language_info": {
   "name": "python",
   "version": "3.8.11"
  },
  "orig_nbformat": 4
 },
 "nbformat": 4,
 "nbformat_minor": 2
}
