{
 "cells": [
  {
   "cell_type": "code",
   "execution_count": null,
   "source": [
    "import networkx as nx\r\n",
    "import pandas as pd\r\n",
    "import numpy as np\r\n",
    "import eegraph\r\n",
    "import stellargraph as sg\r\n",
    "from stellargraph import StellarGraph\r\n",
    "import os\r\n",
    "import pickle\r\n"
   ],
   "outputs": [],
   "metadata": {}
  },
  {
   "cell_type": "markdown",
   "source": [
    "## Funciones de conectividad y bandas"
   ],
   "metadata": {}
  },
  {
   "cell_type": "code",
   "execution_count": null,
   "source": [
    "def search(values, searchFor):\r\n",
    "    for k in values:\r\n",
    "        if (searchFor == k):\r\n",
    "            return (values[k])\r\n",
    "\r\n",
    "    \r\n",
    "def search_key(values, searchFor):\r\n",
    "    for key, value in values.items():\r\n",
    "        if value[0] == searchFor:\r\n",
    "            return key\r\n",
    "\r\n",
    "\r\n",
    "connectivity_measures = {'squared_coherence': (0, ['theta', 'alpha', 'beta'])}   #CONNECTIVITY MEASURES USED"
   ],
   "outputs": [],
   "metadata": {}
  },
  {
   "cell_type": "markdown",
   "source": [
    "## Funcion para convertir eegraf a StellarGraph"
   ],
   "metadata": {}
  },
  {
   "cell_type": "code",
   "execution_count": null,
   "source": [
    "def convertir_eegraph(G):\r\n",
    "    for i in range(len(G)):\r\n",
    "        s = StellarGraph.from_networkx(G[i])\r\n",
    "    return s\r\n"
   ],
   "outputs": [],
   "metadata": {}
  },
  {
   "cell_type": "markdown",
   "source": [
    "## funcion modelar Grafo"
   ],
   "metadata": {}
  },
  {
   "cell_type": "code",
   "execution_count": null,
   "source": [
    "def modelate_with_different_connectivity(window_size, label, bands_number, G, conn_empty_values, connectivity_number_total):\r\n",
    "    array_grafos = []\r\n",
    "    for i in range(connectivity_number_total):\r\n",
    "        conn = search_key(connectivity_measures, i)\r\n",
    "        bands = search(connectivity_measures, conn)[1]\r\n",
    "        \r\n",
    "        graphs = G.modelate(window_size = window_size, connectivity = conn, bands = bands)                         #<--------------- THRESHOLD , threshold = 0.2\r\n",
    "        array_grafos.append(convertir_eegraph(graphs))\r\n",
    "    return  array_grafos"
   ],
   "outputs": [],
   "metadata": {}
  },
  {
   "cell_type": "markdown",
   "source": [
    "## Abrir directorios e importar datos"
   ],
   "metadata": {}
  },
  {
   "cell_type": "code",
   "execution_count": null,
   "source": [
    "def open_data_directories(path, window_size_class_0, window_size_class_1, bands_number, exclude, connectivity_number_total):\r\n",
    "    conn_empty_values = [0] * connectivity_number_total\r\n",
    "    array_grafos = [] \r\n",
    "    class_files = os.listdir(path)\r\n",
    "    for entry in class_files:\r\n",
    "        eeg_files = os.listdir(path + '/' + entry)\r\n",
    "        for eeg in eeg_files:\r\n",
    "            eeg_path = (path + '/' + entry + '/' + eeg)\r\n",
    "            print(eeg_path, entry)\r\n",
    "            G = eegraph.Graph() \r\n",
    "            G.load_data(path= eeg_path, exclude = exclude)\r\n",
    "            \r\n",
    "            if(entry == '1'):\r\n",
    "                window_size = window_size_class_1\r\n",
    "            elif (entry == '0'):\r\n",
    "                window_size = window_size_class_0\r\n",
    "            \r\n",
    "            array_grafos.append(modelate_with_different_connectivity(window_size, entry ,bands_number, G, conn_empty_values, connectivity_number_total))\r\n",
    "        \r\n",
    "    return array_grafos"
   ],
   "outputs": [],
   "metadata": {}
  },
  {
   "cell_type": "markdown",
   "source": [
    "## llamada a las funciones"
   ],
   "metadata": {}
  },
  {
   "cell_type": "code",
   "execution_count": null,
   "source": [
    "path = '../GCNN/Scripts/data/data_vigilia'                                            #<--------------- PATH TO FOLDER CONTAINING EEGs\r\n",
    "window_size_class_0 = 1                                 #<--------------- CLASS 0 WINDOW SIZE\r\n",
    "window_size_class_1 = 1                               #<--------------- CLASS 1 WINDOW SIZE\r\n",
    "connectivity_number_total = 1\r\n",
    "bands = 3                                     #<--------------- NUMBER OF FREQUENCY BANDS USED\r\n",
    "exclude = [] \r\n",
    "graphs, x1_labels = open_data_directories(path, window_size_class_0, window_size_class_1, bands, exclude, connectivity_number_total)\r\n"
   ],
   "outputs": [],
   "metadata": {}
  }
 ],
 "metadata": {
  "orig_nbformat": 4,
  "language_info": {
   "name": "python",
   "version": "3.8.11"
  },
  "kernelspec": {
   "name": "python3",
   "display_name": "Python 3.8.11 64-bit ('Ceiec': conda)"
  },
  "interpreter": {
   "hash": "ce834ef4bb88453c9616f086865b677e44e8db09042ee13be28b090baecb32b6"
  }
 },
 "nbformat": 4,
 "nbformat_minor": 2
}