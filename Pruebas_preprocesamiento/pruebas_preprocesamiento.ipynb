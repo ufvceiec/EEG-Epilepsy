{
 "cells": [
  {
   "cell_type": "code",
   "execution_count": null,
   "metadata": {},
   "outputs": [],
   "source": [
    "import networkx as nx\n",
    "import pandas as pd\n",
    "import numpy as np\n",
    "import eegraph\n",
    "import stellargraph as sg\n",
    "from stellargraph import StellarGraph\n",
    "import os\n",
    "\n"
   ]
  },
  {
   "cell_type": "markdown",
   "metadata": {},
   "source": [
    "## Variables a usar"
   ]
  },
  {
   "cell_type": "code",
   "execution_count": null,
   "metadata": {},
   "outputs": [],
   "source": [
    "path = '../GCNN/Scripts/data/data_vigilia'              #<--------------- PATH TO FOLDER CONTAINING EEGs\n",
    "window_size_class_0 = 1                                 #<--------------- CLASS 0 WINDOW SIZE\n",
    "window_size_class_1 = 1                               #<--------------- CLASS 1 WINDOW SIZE\n",
    "connectivity_number_total = 1                                \n",
    "exclude = [] \n",
    "#CONNECTIVITY MEASURES USED\n",
    "connectivity= \"squared_coherence\"\n",
    "bands = ['theta', 'alpha', 'beta']"
   ]
  },
  {
   "cell_type": "markdown",
   "metadata": {},
   "source": [
    "## Funcion para convertir eegraf a StellarGraph"
   ]
  },
  {
   "cell_type": "code",
   "execution_count": null,
   "metadata": {},
   "outputs": [],
   "source": [
    "def convertir_eegraph(G):\n",
    "    array_grafos= []\n",
    "    #recorremos los grafos\n",
    "    for i in range(len(G)):\n",
    "        #convertimos el grafo\n",
    "        s = StellarGraph.from_networkx(G[i])\n",
    "        #los guardamos en un array\n",
    "        array_grafos.append(s)\n",
    "    return array_grafos\n"
   ]
  },
  {
   "cell_type": "markdown",
   "metadata": {},
   "source": [
    "## funcion modelar Grafo"
   ]
  },
  {
   "cell_type": "code",
   "execution_count": null,
   "metadata": {},
   "outputs": [],
   "source": [
    "def modelate_with_different_connectivity(window_size, G, connectivity_number_total, connectivity, bands):\n",
    "    array_grafos = []\n",
    "    #recorremos el numero de conectividades elegidas\n",
    "    for i in range(connectivity_number_total):\n",
    "        #creamos nuestro grafo modelado y guardamos nuestra matriz de adyacencia(no nos hace falta pero son datos que podrían venir bien en un futuro)\n",
    "        graphs, c_m = G.modelate(window_size = window_size, connectivity = connectivity, bands = bands) #<--------------- THRESHOLD , threshold = 0.2          \n",
    "        #llamamos recursivamente a la función para convertir los grafos de tipo networkx en un objeto manejable por Stellar graph\n",
    "        array_grafos = array_grafos + convertir_eegraph(graphs)\n",
    "    return  array_grafos"
   ]
  },
  {
   "cell_type": "markdown",
   "metadata": {},
   "source": [
    "## Abrir directorios e importar datos"
   ]
  },
  {
   "cell_type": "code",
   "execution_count": null,
   "metadata": {},
   "outputs": [],
   "source": [
    "def open_data_directories(path, window_size_class_0, window_size_class_1, exclude, connectivity_number_total,connectivity,bands):\n",
    "    array_grafos = []\n",
    "    class_files = os.listdir(path)\n",
    "    #recorremos todas las carpetas y ficheros del path dado\n",
    "    for entry in class_files:\n",
    "        eeg_files = os.listdir(path + '/' + entry)\n",
    "        for eeg in eeg_files:\n",
    "            eeg_path = (path + '/' + entry + '/' + eeg)\n",
    "            print(eeg_path, entry)#imprimimos el path del archivo completo\n",
    "            G = eegraph.Graph() #creamos un objeto de tipo eegraph\n",
    "            G.load_data(path= eeg_path, exclude = exclude) # llamamos al objeto y cargamos el archivo seleccionado\n",
    "            \n",
    "            if(entry == '1'):\n",
    "                window_size = window_size_class_1\n",
    "            elif (entry == '0'):\n",
    "                window_size = window_size_class_0\n",
    "            #llamamos recursivamente a la función para modelar nuestro grafo con las medidas deseadas\n",
    "            array_grafos = array_grafos + modelate_with_different_connectivity(window_size , G, connectivity_number_total,connectivity,bands)\n",
    "        \n",
    "    return array_grafos"
   ]
  },
  {
   "cell_type": "markdown",
   "metadata": {},
   "source": [
    "## llamada a las funciones"
   ]
  },
  {
   "cell_type": "code",
   "execution_count": null,
   "metadata": {},
   "outputs": [],
   "source": [
    "graphs = open_data_directories(path, window_size_class_0, window_size_class_1, exclude, connectivity_number_total,connectivity,bands)\n"
   ]
  },
  {
   "cell_type": "code",
   "execution_count": null,
   "metadata": {},
   "outputs": [],
   "source": []
  }
 ],
 "metadata": {
  "interpreter": {
   "hash": "ce834ef4bb88453c9616f086865b677e44e8db09042ee13be28b090baecb32b6"
  },
  "kernelspec": {
   "display_name": "Python 3.8.11 64-bit ('Ceiec': conda)",
   "name": "python3"
  },
  "language_info": {
   "codemirror_mode": {
    "name": "ipython",
    "version": 3
   },
   "file_extension": ".py",
   "mimetype": "text/x-python",
   "name": "python",
   "nbconvert_exporter": "python",
   "pygments_lexer": "ipython3",
   "version": "3.8.11"
  },
  "orig_nbformat": 4
 },
 "nbformat": 4,
 "nbformat_minor": 2
}
